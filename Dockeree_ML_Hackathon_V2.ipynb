{
  "nbformat": 4,
  "nbformat_minor": 0,
  "metadata": {
    "colab": {
      "provenance": [],
      "gpuType": "T4"
    },
    "kernelspec": {
      "name": "python3",
      "display_name": "Python 3"
    },
    "language_info": {
      "name": "python"
    }
  },
  "cells": [
    {
      "cell_type": "code",
      "source": [
        "from google.colab import drive\n",
        "drive.mount('/content/drive')"
      ],
      "metadata": {
        "colab": {
          "base_uri": "https://localhost:8080/"
        },
        "id": "c6GAzggnDrn4",
        "outputId": "5a98f5b2-02a7-42d4-9993-48ad734079ae"
      },
      "execution_count": null,
      "outputs": [
        {
          "output_type": "stream",
          "name": "stdout",
          "text": [
            "Drive already mounted at /content/drive; to attempt to forcibly remount, call drive.mount(\"/content/drive\", force_remount=True).\n"
          ]
        }
      ]
    },
    {
      "cell_type": "code",
      "execution_count": null,
      "metadata": {
        "id": "np9HooTXeXUX"
      },
      "outputs": [],
      "source": [
        "# Importing the libraries\n",
        "import numpy as np\n",
        "import matplotlib.pyplot as plt\n",
        "import pandas as pd\n",
        "\n",
        "import warnings\n",
        "warnings.filterwarnings('ignore')"
      ]
    },
    {
      "cell_type": "code",
      "source": [
        "from gensim.models import Word2Vec\n",
        "from sklearn.model_selection import train_test_split\n",
        "from sklearn.linear_model import LogisticRegression\n",
        "from sklearn.metrics import accuracy_score\n",
        "from sklearn.metrics import confusion_matrix"
      ],
      "metadata": {
        "id": "yzi7D9Ztiy61"
      },
      "execution_count": null,
      "outputs": []
    },
    {
      "cell_type": "code",
      "source": [
        "# Importing the dataset\n",
        "df = pd.read_csv(\"/content/drive/MyDrive/Dockeree/Doceree-HCP_Train.csv\",encoding = \"ISO-8859-1\")\n",
        "print(len(df))\n",
        "df.index=df.ID"
      ],
      "metadata": {
        "id": "0W0Wa1YOyIhj",
        "colab": {
          "base_uri": "https://localhost:8080/"
        },
        "outputId": "2e03318c-ca83-47e6-f17c-20b57f48a62a"
      },
      "execution_count": null,
      "outputs": [
        {
          "output_type": "stream",
          "name": "stdout",
          "text": [
            "113937\n"
          ]
        }
      ]
    },
    {
      "cell_type": "code",
      "source": [
        "# Importing the dataset\n",
        "df_test = pd.read_csv(\"/content/drive/MyDrive/Dockeree/Doceree-HCP_Test.csv\")\n",
        "df_test.index=df_test.ID\n",
        "len(df_test)"
      ],
      "metadata": {
        "id": "uglk0I9LfCMJ",
        "colab": {
          "base_uri": "https://localhost:8080/"
        },
        "outputId": "42018771-f46a-43a4-e591-e192e3d35edc"
      },
      "execution_count": null,
      "outputs": [
        {
          "output_type": "execute_result",
          "data": {
            "text/plain": [
              "28493"
            ]
          },
          "metadata": {},
          "execution_count": 61
        }
      ]
    },
    {
      "cell_type": "markdown",
      "source": [
        "### EDA\n"
      ],
      "metadata": {
        "id": "Y-Iu3cCdVuKr"
      }
    },
    {
      "cell_type": "code",
      "source": [
        "df['TAXONOMY'].value_counts()"
      ],
      "metadata": {
        "colab": {
          "base_uri": "https://localhost:8080/"
        },
        "id": "xM8Cntx7qwv4",
        "outputId": "fcbdae9c-81cd-4b54-b1da-021e4220225d"
      },
      "execution_count": null,
      "outputs": [
        {
          "output_type": "execute_result",
          "data": {
            "text/plain": [
              "2084P0800X    7930\n",
              "2084N0400X    6621\n",
              "207Q00000X    3997\n",
              "207R00000X    3190\n",
              "208000000X     837\n",
              "              ... \n",
              "163WC0400X       1\n",
              "246QM0706X       1\n",
              "1835N1003X       1\n",
              "207RI0008X       1\n",
              "207XX0801X       1\n",
              "Name: TAXONOMY, Length: 207, dtype: int64"
            ]
          },
          "metadata": {},
          "execution_count": 62
        }
      ]
    },
    {
      "cell_type": "code",
      "source": [
        "df['TAXONOMY'].value_counts().sum()"
      ],
      "metadata": {
        "colab": {
          "base_uri": "https://localhost:8080/"
        },
        "id": "3vn-pFEQr-zA",
        "outputId": "ebd230b4-bb8d-4bbc-e407-5bd8ea94926b"
      },
      "execution_count": null,
      "outputs": [
        {
          "output_type": "execute_result",
          "data": {
            "text/plain": [
              "32313"
            ]
          },
          "metadata": {},
          "execution_count": 63
        }
      ]
    },
    {
      "cell_type": "code",
      "source": [
        "df['TAXONOMY'].isna().sum()"
      ],
      "metadata": {
        "colab": {
          "base_uri": "https://localhost:8080/"
        },
        "id": "RQGxXBdrq4jA",
        "outputId": "33b86cab-837e-4529-e0b4-1a65d2afaaf3"
      },
      "execution_count": null,
      "outputs": [
        {
          "output_type": "execute_result",
          "data": {
            "text/plain": [
              "81624"
            ]
          },
          "metadata": {},
          "execution_count": 64
        }
      ]
    },
    {
      "cell_type": "code",
      "source": [
        "df['PLATFORMTYPE'].unique()"
      ],
      "metadata": {
        "id": "oOPrR1t0T5dj",
        "colab": {
          "base_uri": "https://localhost:8080/"
        },
        "outputId": "eab42f14-fe9d-451b-a262-60bca0ace356"
      },
      "execution_count": null,
      "outputs": [
        {
          "output_type": "execute_result",
          "data": {
            "text/plain": [
              "array(['Online Medical Journal', 'Online Learning Portal',\n",
              "       'Medical News Platform', 'Electronic Health Record',\n",
              "       'Tele-medicine Platform'], dtype=object)"
            ]
          },
          "metadata": {},
          "execution_count": 65
        }
      ]
    },
    {
      "cell_type": "code",
      "source": [
        "df['PLATFORMTYPE'].value_counts().plot(kind=\"bar\")\n",
        "#bar_graph('PLATFORMTYPE')"
      ],
      "metadata": {
        "id": "iddRnGOjM6bd",
        "colab": {
          "base_uri": "https://localhost:8080/",
          "height": 604
        },
        "outputId": "4bb9e5a4-af56-40f9-dbe3-4ae67fef9015"
      },
      "execution_count": null,
      "outputs": [
        {
          "output_type": "execute_result",
          "data": {
            "text/plain": [
              "<Axes: >"
            ]
          },
          "metadata": {},
          "execution_count": 66
        },
        {
          "output_type": "display_data",
          "data": {
            "text/plain": [
              "<Figure size 640x480 with 1 Axes>"
            ],
            "image/png": "[encoded data removed]"
          },
          "metadata": {}
        }
      ]
    },
    {
      "cell_type": "code",
      "source": [
        "def bar_graph(feature):\n",
        "    df[feature].value_counts().plot(kind=\"bar\")\n",
        "bar_graph('DEVICETYPE')"
      ],
      "metadata": {
        "id": "ft6B2x0IPD8k",
        "colab": {
          "base_uri": "https://localhost:8080/",
          "height": 480
        },
        "outputId": "60d3de46-157b-4a23-f79f-d9ba557a5d2a"
      },
      "execution_count": null,
      "outputs": [
        {
          "output_type": "display_data",
          "data": {
            "text/plain": [
              "<Figure size 640x480 with 1 Axes>"
            ],
            "image/png": "[encoded data removed]"
          },
          "metadata": {}
        }
      ]
    },
    {
      "cell_type": "code",
      "source": [
        "# Preprocess the text data\n",
        "sentences = df['KEYWORDS'].apply(lambda x: x.split(\"|\"))\n",
        "sentences"
      ],
      "metadata": {
        "id": "VVZNBf8hig6c",
        "colab": {
          "base_uri": "https://localhost:8080/"
        },
        "outputId": "da74472d-ba1b-42df-80d5-9f4d18ca2517"
      },
      "execution_count": null,
      "outputs": [
        {
          "output_type": "execute_result",
          "data": {
            "text/plain": [
              "ID\n",
              "1001      [General, Endocrine, False, Medicine, Surgery,...\n",
              "1002      [Bone Marrow, Radiography, Chronic, Oncology, ...\n",
              "1003      [General, Endocrine, False, Medicine, Surgery,...\n",
              "1004      [Dental, Total, Clinical, Pharmacology, Physic...\n",
              "1005      [Critical Care, Emergency Medicine, General Pr...\n",
              "                                ...                        \n",
              "114933    [Cardiovascular, Clinical, False, Male, Oncolo...\n",
              "114934    [Asthma, Arthritis, General, Clinical, Diagnos...\n",
              "114935    [Rehabilitation, Transplantation, Clinical, Pr...\n",
              "114936    [pain, disease, autoimmune, multiple sclerosis...\n",
              "114937    [Genetic, Large, Autoimmune, Health, False, Ab...\n",
              "Name: KEYWORDS, Length: 113937, dtype: object"
            ]
          },
          "metadata": {},
          "execution_count": 68
        }
      ]
    },
    {
      "cell_type": "code",
      "source": [
        "# import nltk\n",
        "# from nltk.corpus import stopwords\n",
        "# from nltk.tokenize import word_tokenize\n",
        "# nltk.download('stopwords')\n",
        "# nltk.download('punkt')\n",
        "# from wordcloud import WordCloud\n",
        "\n",
        "# stop_words = set(stopwords.words('english'))\n",
        "\n",
        "# all_words = list([a for b in sentences.tolist() for a in b])\n",
        "# all_words_str = ' '.join(all_words)\n",
        "\n",
        "# def plot_cloud(wordcloud):\n",
        "#     plt.figure(figsize=(10, 10))\n",
        "#     plt.imshow(wordcloud)\n",
        "#     plt.axis(\"off\");\n",
        "\n",
        "# wordcloud = WordCloud(width = 2000, height = 1000, random_state=1, background_color='black',\n",
        "#                       colormap='viridis', collocations=False).generate(all_words_str)\n",
        "# plot_cloud(wordcloud)"
      ],
      "metadata": {
        "id": "-p9DzrIyFmN3"
      },
      "execution_count": null,
      "outputs": []
    },
    {
      "cell_type": "code",
      "source": [
        "\n",
        "# import matplotlib.pyplot as plt\n",
        "\n",
        "# stop_words = set(stopwords.words('english'))\n",
        "\n",
        "# # Filter the sentences based on IS_HCP=1 condition\n",
        "# hcp_sentences = sentences[df['IS_HCP'] == 1]\n",
        "\n",
        "# # Concatenate the sentences into a single string\n",
        "# all_words = list([a for b in hcp_sentences.tolist() for a in b])\n",
        "# all_words_str = ' '.join(all_words)\n",
        "\n",
        "# def plot_cloud(wordcloud):\n",
        "#     plt.figure(figsize=(20, 10))\n",
        "#     plt.imshow(wordcloud)\n",
        "#     plt.axis(\"off\")\n",
        "\n",
        "# wordcloud = WordCloud(width=2000, height=1000, random_state=1, background_color='black',\n",
        "#                       colormap='viridis', collocations=False).generate(all_words_str)\n",
        "# plot_cloud(wordcloud)\n"
      ],
      "metadata": {
        "id": "OP1bpGzpU_Qa"
      },
      "execution_count": null,
      "outputs": []
    },
    {
      "cell_type": "code",
      "source": [
        "# stop_words = set(stopwords.words('english'))\n",
        "\n",
        "# # Filter the sentences based on IS_HCP=1 condition\n",
        "# hcp_sentences = sentences[df['IS_HCP'] == 0]\n",
        "\n",
        "# # Concatenate the sentences into a single string\n",
        "# all_words = list([a for b in hcp_sentences.tolist() for a in b])\n",
        "# all_words_str = ' '.join(all_words)\n",
        "\n",
        "# def plot_cloud(wordcloud):\n",
        "#     plt.figure(figsize=(20, 10))\n",
        "#     plt.imshow(wordcloud)\n",
        "#     plt.axis(\"off\")\n",
        "\n",
        "# wordcloud = WordCloud(width=2000, height=1000, random_state=1, background_color='black',\n",
        "#                       colormap='viridis', collocations=False).generate(all_words_str)\n",
        "# plot_cloud(wordcloud)"
      ],
      "metadata": {
        "id": "-fNgpevuVYsb"
      },
      "execution_count": null,
      "outputs": []
    },
    {
      "cell_type": "code",
      "source": [
        "df['USERZIPCODE'].fillna(df[\"USERZIPCODE\"].mode()[0],inplace=True)\n",
        "df['USERCITY'].fillna(\"UNKNOWN\",inplace=True)\n",
        "\n",
        "df_test['USERZIPCODE'].fillna(df[\"USERZIPCODE\"].mode()[0],inplace=True)\n",
        "df_test['USERCITY'].fillna(\"UNKNOWN\",inplace=True)\n",
        "\n",
        "df.info()"
      ],
      "metadata": {
        "colab": {
          "base_uri": "https://localhost:8080/"
        },
        "id": "B_LQAbIpynLe",
        "outputId": "761a53f7-3937-4398-9d40-7d95b6c42055"
      },
      "execution_count": null,
      "outputs": [
        {
          "output_type": "stream",
          "name": "stdout",
          "text": [
            "<class 'pandas.core.frame.DataFrame'>\n",
            "Int64Index: 113937 entries, 1001 to 114937\n",
            "Data columns (total 14 columns):\n",
            " #   Column           Non-Null Count   Dtype  \n",
            "---  ------           --------------   -----  \n",
            " 0   ID               113937 non-null  int64  \n",
            " 1   DEVICETYPE       113937 non-null  object \n",
            " 2   PLATFORM_ID      113937 non-null  int64  \n",
            " 3   BIDREQUESTIP     113937 non-null  object \n",
            " 4   USERPLATFORMUID  113933 non-null  object \n",
            " 5   USERCITY         113937 non-null  object \n",
            " 6   USERZIPCODE      113937 non-null  float64\n",
            " 7   USERAGENT        113935 non-null  object \n",
            " 8   PLATFORMTYPE     113937 non-null  object \n",
            " 9   CHANNELTYPE      113937 non-null  object \n",
            " 10  URL              113937 non-null  object \n",
            " 11  KEYWORDS         113937 non-null  object \n",
            " 12  TAXONOMY         32313 non-null   object \n",
            " 13  IS_HCP           113936 non-null  float64\n",
            "dtypes: float64(2), int64(2), object(10)\n",
            "memory usage: 13.0+ MB\n"
          ]
        }
      ]
    },
    {
      "cell_type": "code",
      "source": [
        "df = df.dropna(subset=['IS_HCP'])\n",
        "df[\"TAXONOMY\"] = df[\"TAXONOMY\"].notnull().astype(\"int\")"
      ],
      "metadata": {
        "id": "nSI2wzTiynP7"
      },
      "execution_count": null,
      "outputs": []
    },
    {
      "cell_type": "code",
      "source": [
        "df['IS_HCP'].value_counts()"
      ],
      "metadata": {
        "colab": {
          "base_uri": "https://localhost:8080/"
        },
        "id": "23Po5_taz8J3",
        "outputId": "92dcac6a-8b97-4a04-9025-5b16ac04606a"
      },
      "execution_count": null,
      "outputs": [
        {
          "output_type": "execute_result",
          "data": {
            "text/plain": [
              "0.0    79756\n",
              "1.0    34180\n",
              "Name: IS_HCP, dtype: int64"
            ]
          },
          "metadata": {},
          "execution_count": 74
        }
      ]
    },
    {
      "cell_type": "code",
      "source": [
        "x = df.iloc[:,:-2]\n",
        "print(len(df))\n",
        "x = pd.concat([x, df_test],axis=0)\n",
        "print(len(df),len(x))\n",
        "x"
      ],
      "metadata": {
        "colab": {
          "base_uri": "https://localhost:8080/",
          "height": 1000
        },
        "id": "tXsUmx-EynSa",
        "outputId": "be20a371-4c9d-43c0-eca6-387b2a362190"
      },
      "execution_count": null,
      "outputs": [
        {
          "output_type": "stream",
          "name": "stdout",
          "text": [
            "113936\n",
            "113936 142429\n"
          ]
        },
        {
          "output_type": "execute_result",
          "data": {
            "text/plain": [
              "            ID DEVICETYPE  PLATFORM_ID    BIDREQUESTIP  \\\n",
              "ID                                                       \n",
              "1001      1001    Desktop            2    170.173.0.22   \n",
              "1002      1002    Desktop            2   65.216.253.25   \n",
              "1003      1003    Desktop            2    66.232.79.22   \n",
              "1004      1004    Desktop            3  137.54.125.246   \n",
              "1005      1005     Mobile            7  174.202.231.99   \n",
              "...        ...        ...          ...             ...   \n",
              "143989  143989    Desktop            2  69.202.233.241   \n",
              "143990  143990    Desktop            7     75.4.190.65   \n",
              "143991  143991    Desktop            7   137.52.180.45   \n",
              "143992  143992    Desktop            8     66.249.66.4   \n",
              "143993  143993    Desktop            2  107.194.33.149   \n",
              "\n",
              "                             USERPLATFORMUID         USERCITY  USERZIPCODE  \\\n",
              "ID                                                                           \n",
              "1001    6974dcaa-f932-480e-9fb5-c52e20e1393a         Portland      97206.0   \n",
              "1002    c12f3f8f-8fcf-484a-90e1-1ac04db8cdcf        Arlington      22202.0   \n",
              "1003    a698de4b-e200-46dd-b5fb-40402175ae18      New Meadows      83654.0   \n",
              "1004    45967533-75c8-4fbd-a00c-e6ff20447aaa          UNKNOWN  229114624.0   \n",
              "1005    a17e25be-532d-4cf5-b916-9308c8c3961f          Houston      77008.0   \n",
              "...                                      ...              ...          ...   \n",
              "143989  78ce4bbe-3885-4c14-b945-a0ea1e4574f4         Brooklyn      11215.0   \n",
              "143990  a53799e1-b279-40cf-b467-11b4d659e325            Miami      33178.0   \n",
              "143991  acc732a8-2ee9-4e2c-9933-70e34db48101  Fort Lauderdale      33314.0   \n",
              "143992  dce21294-b105-4abb-b145-4e62d71def44          UNKNOWN      63169.0   \n",
              "143993  f9b193b0-82b0-4ac8-b24a-5635401ca934       Wilmington      28412.0   \n",
              "\n",
              "                                                USERAGENT  \\\n",
              "ID                                                          \n",
              "1001    Mozilla/5.0 (Windows NT 10.0; Win64; x64) Appl...   \n",
              "1002    Mozilla/5.0 (Macintosh; Intel Mac OS X 10_15_7...   \n",
              "1003    Mozilla/5.0 (Macintosh; Intel Mac OS X 10_15_7...   \n",
              "1004    Mozilla/5.0 (Windows NT 10.0; Win64; x64) Appl...   \n",
              "1005    Mozilla/5.0 (iPhone; CPU iPhone OS 16_1_1 like...   \n",
              "...                                                   ...   \n",
              "143989  Mozilla/5.0 (Windows NT 10.0; WOW64) AppleWebK...   \n",
              "143990  Mozilla/5.0 (Windows NT 10.0; Win64; x64) Appl...   \n",
              "143991  Mozilla/5.0 (Macintosh; Intel Mac OS X 10_15_7...   \n",
              "143992  Mozilla/5.0 (Linux; Android 6.0.1; Nexus 5X Bu...   \n",
              "143993  Mozilla/5.0 (Windows NT 10.0; Win64; x64) Appl...   \n",
              "\n",
              "                  PLATFORMTYPE CHANNELTYPE  \\\n",
              "ID                                           \n",
              "1001    Online Medical Journal     Website   \n",
              "1002    Online Medical Journal     Website   \n",
              "1003    Online Medical Journal     Website   \n",
              "1004    Online Medical Journal     Website   \n",
              "1005    Online Medical Journal     Website   \n",
              "...                        ...         ...   \n",
              "143989  Online Medical Journal     Website   \n",
              "143990  Online Medical Journal     Website   \n",
              "143991  Online Medical Journal     Website   \n",
              "143992  Online Medical Journal     Website   \n",
              "143993  Online Medical Journal     Website   \n",
              "\n",
              "                                                      URL  \\\n",
              "ID                                                          \n",
              "1001    https://www.cancertherapyadvisor.com/home/canc...   \n",
              "1002    https://www.cancertherapyadvisor.com/home/deci...   \n",
              "1003    https://www.cancertherapyadvisor.com/home/canc...   \n",
              "1004    https://globalrph.com/medcalcs/warfarin-mainte...   \n",
              "1005    https://www.cureus.com/articles/58184-a-review...   \n",
              "...                                                   ...   \n",
              "143989  https://www.renalandurologynews.com/home/news/...   \n",
              "143990  https://www.cureus.com/publish/articles/144818...   \n",
              "143991  https://www.cureus.com/registrations/continue?...   \n",
              "143992  https://radrounds.com/radiology-case-images-te...   \n",
              "143993  https://www.clinicalpainadvisor.com/regulatory...   \n",
              "\n",
              "                                                 KEYWORDS  \n",
              "ID                                                         \n",
              "1001    General|Endocrine|False|Medicine|Surgery|Urolo...  \n",
              "1002    Bone Marrow|Radiography|Chronic|Oncology|Psych...  \n",
              "1003    General|Endocrine|False|Medicine|Surgery|Urolo...  \n",
              "1004    Dental|Total|Clinical|Pharmacology|Physicians|...  \n",
              "1005    Critical Care|Emergency Medicine|General Pract...  \n",
              "...                                                   ...  \n",
              "143989  Transplantation|Psychiatry|Heart Failure|Angio...  \n",
              "143990  small|hospitals|nephrology|emergency medicine|...  \n",
              "143991  small|hospitals|nephrology|emergency medicine|...  \n",
              "143992  the|disease|pain|radiology|lung abscess|dyspar...  \n",
              "143993  Medicine|General|Clinical|False|Urology|Total|...  \n",
              "\n",
              "[142429 rows x 12 columns]"
            ],
            "text/html": [
              "\n",
              "  <div id=\"df-0d3bc675-24f5-4127-a41f-000c1912e557\">\n",
              "    <div class=\"colab-df-container\">\n",
              "      <div>\n",
              "<style scoped>\n",
              "    .dataframe tbody tr th:only-of-type {\n",
              "        vertical-align: middle;\n",
              "    }\n",
              "\n",
              "    .dataframe tbody tr th {\n",
              "        vertical-align: top;\n",
              "    }\n",
              "\n",
              "    .dataframe thead th {\n",
              "        text-align: right;\n",
              "    }\n",
              "</style>\n",
              "<table border=\"1\" class=\"dataframe\">\n",
              "  <thead>\n",
              "    <tr style=\"text-align: right;\">\n",
              "      <th></th>\n",
              "      <th>ID</th>\n",
              "      <th>DEVICETYPE</th>\n",
              "      <th>PLATFORM_ID</th>\n",
              "      <th>BIDREQUESTIP</th>\n",
              "      <th>USERPLATFORMUID</th>\n",
              "      <th>USERCITY</th>\n",
              "      <th>USERZIPCODE</th>\n",
              "      <th>USERAGENT</th>\n",
              "      <th>PLATFORMTYPE</th>\n",
              "      <th>CHANNELTYPE</th>\n",
              "      <th>URL</th>\n",
              "      <th>KEYWORDS</th>\n",
              "    </tr>\n",
              "    <tr>\n",
              "      <th>ID</th>\n",
              "      <th></th>\n",
              "      <th></th>\n",
              "      <th></th>\n",
              "      <th></th>\n",
              "      <th></th>\n",
              "      <th></th>\n",
              "      <th></th>\n",
              "      <th></th>\n",
              "      <th></th>\n",
              "      <th></th>\n",
              "      <th></th>\n",
              "      <th></th>\n",
              "    </tr>\n",
              "  </thead>\n",
              "  <tbody>\n",
              "    <tr>\n",
              "      <th>1001</th>\n",
              "      <td>1001</td>\n",
              "      <td>Desktop</td>\n",
              "      <td>2</td>\n",
              "      <td>170.173.0.22</td>\n",
              "      <td>6974dcaa-f932-480e-9fb5-c52e20e1393a</td>\n",
              "      <td>Portland</td>\n",
              "      <td>97206.0</td>\n",
              "      <td>Mozilla/5.0 (Windows NT 10.0; Win64; x64) Appl...</td>\n",
              "      <td>Online Medical Journal</td>\n",
              "      <td>Website</td>\n",
              "      <td>https://www.cancertherapyadvisor.com/home/canc...</td>\n",
              "      <td>General|Endocrine|False|Medicine|Surgery|Urolo...</td>\n",
              "    </tr>\n",
              "    <tr>\n",
              "      <th>1002</th>\n",
              "      <td>1002</td>\n",
              "      <td>Desktop</td>\n",
              "      <td>2</td>\n",
              "      <td>65.216.253.25</td>\n",
              "      <td>c12f3f8f-8fcf-484a-90e1-1ac04db8cdcf</td>\n",
              "      <td>Arlington</td>\n",
              "      <td>22202.0</td>\n",
              "      <td>Mozilla/5.0 (Macintosh; Intel Mac OS X 10_15_7...</td>\n",
              "      <td>Online Medical Journal</td>\n",
              "      <td>Website</td>\n",
              "      <td>https://www.cancertherapyadvisor.com/home/deci...</td>\n",
              "      <td>Bone Marrow|Radiography|Chronic|Oncology|Psych...</td>\n",
              "    </tr>\n",
              "    <tr>\n",
              "      <th>1003</th>\n",
              "      <td>1003</td>\n",
              "      <td>Desktop</td>\n",
              "      <td>2</td>\n",
              "      <td>66.232.79.22</td>\n",
              "      <td>a698de4b-e200-46dd-b5fb-40402175ae18</td>\n",
              "      <td>New Meadows</td>\n",
              "      <td>83654.0</td>\n",
              "      <td>Mozilla/5.0 (Macintosh; Intel Mac OS X 10_15_7...</td>\n",
              "      <td>Online Medical Journal</td>\n",
              "      <td>Website</td>\n",
              "      <td>https://www.cancertherapyadvisor.com/home/canc...</td>\n",
              "      <td>General|Endocrine|False|Medicine|Surgery|Urolo...</td>\n",
              "    </tr>\n",
              "    <tr>\n",
              "      <th>1004</th>\n",
              "      <td>1004</td>\n",
              "      <td>Desktop</td>\n",
              "      <td>3</td>\n",
              "      <td>137.54.125.246</td>\n",
              "      <td>45967533-75c8-4fbd-a00c-e6ff20447aaa</td>\n",
              "      <td>UNKNOWN</td>\n",
              "      <td>229114624.0</td>\n",
              "      <td>Mozilla/5.0 (Windows NT 10.0; Win64; x64) Appl...</td>\n",
              "      <td>Online Medical Journal</td>\n",
              "      <td>Website</td>\n",
              "      <td>https://globalrph.com/medcalcs/warfarin-mainte...</td>\n",
              "      <td>Dental|Total|Clinical|Pharmacology|Physicians|...</td>\n",
              "    </tr>\n",
              "    <tr>\n",
              "      <th>1005</th>\n",
              "      <td>1005</td>\n",
              "      <td>Mobile</td>\n",
              "      <td>7</td>\n",
              "      <td>174.202.231.99</td>\n",
              "      <td>a17e25be-532d-4cf5-b916-9308c8c3961f</td>\n",
              "      <td>Houston</td>\n",
              "      <td>77008.0</td>\n",
              "      <td>Mozilla/5.0 (iPhone; CPU iPhone OS 16_1_1 like...</td>\n",
              "      <td>Online Medical Journal</td>\n",
              "      <td>Website</td>\n",
              "      <td>https://www.cureus.com/articles/58184-a-review...</td>\n",
              "      <td>Critical Care|Emergency Medicine|General Pract...</td>\n",
              "    </tr>\n",
              "    <tr>\n",
              "      <th>...</th>\n",
              "      <td>...</td>\n",
              "      <td>...</td>\n",
              "      <td>...</td>\n",
              "      <td>...</td>\n",
              "      <td>...</td>\n",
              "      <td>...</td>\n",
              "      <td>...</td>\n",
              "      <td>...</td>\n",
              "      <td>...</td>\n",
              "      <td>...</td>\n",
              "      <td>...</td>\n",
              "      <td>...</td>\n",
              "    </tr>\n",
              "    <tr>\n",
              "      <th>143989</th>\n",
              "      <td>143989</td>\n",
              "      <td>Desktop</td>\n",
              "      <td>2</td>\n",
              "      <td>69.202.233.241</td>\n",
              "      <td>78ce4bbe-3885-4c14-b945-a0ea1e4574f4</td>\n",
              "      <td>Brooklyn</td>\n",
              "      <td>11215.0</td>\n",
              "      <td>Mozilla/5.0 (Windows NT 10.0; WOW64) AppleWebK...</td>\n",
              "      <td>Online Medical Journal</td>\n",
              "      <td>Website</td>\n",
              "      <td>https://www.renalandurologynews.com/home/news/...</td>\n",
              "      <td>Transplantation|Psychiatry|Heart Failure|Angio...</td>\n",
              "    </tr>\n",
              "    <tr>\n",
              "      <th>143990</th>\n",
              "      <td>143990</td>\n",
              "      <td>Desktop</td>\n",
              "      <td>7</td>\n",
              "      <td>75.4.190.65</td>\n",
              "      <td>a53799e1-b279-40cf-b467-11b4d659e325</td>\n",
              "      <td>Miami</td>\n",
              "      <td>33178.0</td>\n",
              "      <td>Mozilla/5.0 (Windows NT 10.0; Win64; x64) Appl...</td>\n",
              "      <td>Online Medical Journal</td>\n",
              "      <td>Website</td>\n",
              "      <td>https://www.cureus.com/publish/articles/144818...</td>\n",
              "      <td>small|hospitals|nephrology|emergency medicine|...</td>\n",
              "    </tr>\n",
              "    <tr>\n",
              "      <th>143991</th>\n",
              "      <td>143991</td>\n",
              "      <td>Desktop</td>\n",
              "      <td>7</td>\n",
              "      <td>137.52.180.45</td>\n",
              "      <td>acc732a8-2ee9-4e2c-9933-70e34db48101</td>\n",
              "      <td>Fort Lauderdale</td>\n",
              "      <td>33314.0</td>\n",
              "      <td>Mozilla/5.0 (Macintosh; Intel Mac OS X 10_15_7...</td>\n",
              "      <td>Online Medical Journal</td>\n",
              "      <td>Website</td>\n",
              "      <td>https://www.cureus.com/registrations/continue?...</td>\n",
              "      <td>small|hospitals|nephrology|emergency medicine|...</td>\n",
              "    </tr>\n",
              "    <tr>\n",
              "      <th>143992</th>\n",
              "      <td>143992</td>\n",
              "      <td>Desktop</td>\n",
              "      <td>8</td>\n",
              "      <td>66.249.66.4</td>\n",
              "      <td>dce21294-b105-4abb-b145-4e62d71def44</td>\n",
              "      <td>UNKNOWN</td>\n",
              "      <td>63169.0</td>\n",
              "      <td>Mozilla/5.0 (Linux; Android 6.0.1; Nexus 5X Bu...</td>\n",
              "      <td>Online Medical Journal</td>\n",
              "      <td>Website</td>\n",
              "      <td>https://radrounds.com/radiology-case-images-te...</td>\n",
              "      <td>the|disease|pain|radiology|lung abscess|dyspar...</td>\n",
              "    </tr>\n",
              "    <tr>\n",
              "      <th>143993</th>\n",
              "      <td>143993</td>\n",
              "      <td>Desktop</td>\n",
              "      <td>2</td>\n",
              "      <td>107.194.33.149</td>\n",
              "      <td>f9b193b0-82b0-4ac8-b24a-5635401ca934</td>\n",
              "      <td>Wilmington</td>\n",
              "      <td>28412.0</td>\n",
              "      <td>Mozilla/5.0 (Windows NT 10.0; Win64; x64) Appl...</td>\n",
              "      <td>Online Medical Journal</td>\n",
              "      <td>Website</td>\n",
              "      <td>https://www.clinicalpainadvisor.com/regulatory...</td>\n",
              "      <td>Medicine|General|Clinical|False|Urology|Total|...</td>\n",
              "    </tr>\n",
              "  </tbody>\n",
              "</table>\n",
              "<p>142429 rows × 12 columns</p>\n",
              "</div>\n",
              "      <button class=\"colab-df-convert\" onclick=\"convertToInteractive('df-0d3bc675-24f5-4127-a41f-000c1912e557')\"\n",
              "              title=\"Convert this dataframe to an interactive table.\"\n",
              "              style=\"display:none;\">\n",
              "        \n",
              "  <svg xmlns=\"http://www.w3.org/2000/svg\" height=\"24px\"viewBox=\"0 0 24 24\"\n",
              "       width=\"24px\">\n",
              "    <path d=\"M0 0h24v24H0V0z\" fill=\"none\"/>\n",
              "    <path d=\"M18.56 5.44l.94 2.06.94-2.06 2.06-.94-2.06-.94-.94-2.06-.94 2.06-2.06.94zm-11 1L8.5 8.5l.94-2.06 2.06-.94-2.06-.94L8.5 2.5l-.94 2.06-2.06.94zm10 10l.94 2.06.94-2.06 2.06-.94-2.06-.94-.94-2.06-.94 2.06-2.06.94z\"/><path d=\"M17.41 7.96l-1.37-1.37c-.4-.4-.92-.59-1.43-.59-.52 0-1.04.2-1.43.59L10.3 9.45l-7.72 7.72c-.78.78-.78 2.05 0 2.83L4 21.41c.39.39.9.59 1.41.59.51 0 1.02-.2 1.41-.59l7.78-7.78 2.81-2.81c.8-.78.8-2.07 0-2.86zM5.41 20L4 18.59l7.72-7.72 1.47 1.35L5.41 20z\"/>\n",
              "  </svg>\n",
              "      </button>\n",
              "      \n",
              "  <style>\n",
              "    .colab-df-container {\n",
              "      display:flex;\n",
              "      flex-wrap:wrap;\n",
              "      gap: 12px;\n",
              "    }\n",
              "\n",
              "    .colab-df-convert {\n",
              "      background-color: #E8F0FE;\n",
              "      border: none;\n",
              "      border-radius: 50%;\n",
              "      cursor: pointer;\n",
              "      display: none;\n",
              "      fill: #1967D2;\n",
              "      height: 32px;\n",
              "      padding: 0 0 0 0;\n",
              "      width: 32px;\n",
              "    }\n",
              "\n",
              "    .colab-df-convert:hover {\n",
              "      background-color: #E2EBFA;\n",
              "      box-shadow: 0px 1px 2px rgba(60, 64, 67, 0.3), 0px 1px 3px 1px rgba(60, 64, 67, 0.15);\n",
              "      fill: #174EA6;\n",
              "    }\n",
              "\n",
              "    [theme=dark] .colab-df-convert {\n",
              "      background-color: #3B4455;\n",
              "      fill: #D2E3FC;\n",
              "    }\n",
              "\n",
              "    [theme=dark] .colab-df-convert:hover {\n",
              "      background-color: #434B5C;\n",
              "      box-shadow: 0px 1px 3px 1px rgba(0, 0, 0, 0.15);\n",
              "      filter: drop-shadow(0px 1px 2px rgba(0, 0, 0, 0.3));\n",
              "      fill: #FFFFFF;\n",
              "    }\n",
              "  </style>\n",
              "\n",
              "      <script>\n",
              "        const buttonEl =\n",
              "          document.querySelector('#df-0d3bc675-24f5-4127-a41f-000c1912e557 button.colab-df-convert');\n",
              "        buttonEl.style.display =\n",
              "          google.colab.kernel.accessAllowed ? 'block' : 'none';\n",
              "\n",
              "        async function convertToInteractive(key) {\n",
              "          const element = document.querySelector('#df-0d3bc675-24f5-4127-a41f-000c1912e557');\n",
              "          const dataTable =\n",
              "            await google.colab.kernel.invokeFunction('convertToInteractive',\n",
              "                                                     [key], {});\n",
              "          if (!dataTable) return;\n",
              "\n",
              "          const docLinkHtml = 'Like what you see? Visit the ' +\n",
              "            '<a target=\"_blank\" href=https://colab.research.google.com/notebooks/data_table.ipynb>data table notebook</a>'\n",
              "            + ' to learn more about interactive tables.';\n",
              "          element.innerHTML = '';\n",
              "          dataTable['output_type'] = 'display_data';\n",
              "          await google.colab.output.renderOutput(dataTable, element);\n",
              "          const docLink = document.createElement('div');\n",
              "          docLink.innerHTML = docLinkHtml;\n",
              "          element.appendChild(docLink);\n",
              "        }\n",
              "      </script>\n",
              "    </div>\n",
              "  </div>\n",
              "  "
            ]
          },
          "metadata": {},
          "execution_count": 75
        }
      ]
    },
    {
      "cell_type": "code",
      "source": [
        "# Label Encoding\n",
        "\n",
        "from sklearn.preprocessing import LabelEncoder\n",
        "from sklearn.ensemble import RandomForestClassifier\n",
        "label_encoder=LabelEncoder()\n",
        "x['DEVICETYPE']= label_encoder.fit_transform(x['DEVICETYPE'])\n",
        "x['PLATFORMTYPE']= label_encoder.fit_transform(x['PLATFORMTYPE'])\n",
        "x['USERAGENT']= label_encoder.fit_transform(x['USERAGENT'])\n",
        "x['CHANNELTYPE']= label_encoder.fit_transform(x['CHANNELTYPE'])\n",
        "x\n",
        "x['DEVICETYPE']= label_encoder.fit_transform(x['DEVICETYPE'])\n",
        "x['URL']= label_encoder.fit_transform(x['URL'])\n",
        "x['KEYWORDS']= label_encoder.fit_transform(x['KEYWORDS'])\n",
        "x['USERCITY']= label_encoder.fit_transform(x['USERCITY'])\n",
        "x['BIDREQUESTIP']= label_encoder.fit_transform(x['BIDREQUESTIP'])\n",
        "\n",
        "x['BIDREQUESTIP']= label_encoder.fit_transform(x['BIDREQUESTIP'])\n",
        "x['USERPLATFORMUID']= label_encoder.fit_transform(x['USERPLATFORMUID'])\n",
        "\n",
        "# x.drop(\"DEVICETYPE\",inplace=True,axis=1)\n",
        "# x.drop(\"BIDREQUESTIP\",inplace=True,axis=1)\n",
        "# x.drop(\"USERPLATFORMUID\",inplace=True,axis=1)\n",
        "# x.drop(\"URL\",inplace=True,axis=1)\n",
        "# x.drop(\"USERZIPCODE\",inplace=True,axis=1)"
      ],
      "metadata": {
        "id": "pfSEBbSAynVA"
      },
      "execution_count": null,
      "outputs": []
    },
    {
      "cell_type": "code",
      "source": [
        "from sklearn.model_selection import train_test_split\n",
        "X_TEST = x.iloc[113936:]\n",
        "\n",
        "x = x.iloc[:113936]\n",
        "y = df.iloc[:,-1]\n",
        "\n",
        "X_train,X_test,y_train,y_test = train_test_split(x, y, test_size=0.2)\n",
        "\n",
        "x['USERZIPCODE'].fillna(X_train.USERZIPCODE.mode()[0], inplace=True)\n",
        "x"
      ],
      "metadata": {
        "colab": {
          "base_uri": "https://localhost:8080/",
          "height": 455
        },
        "id": "A16kwL3xynXf",
        "outputId": "b6479448-c3a1-4691-dc66-c47687b59bc2"
      },
      "execution_count": null,
      "outputs": [
        {
          "output_type": "execute_result",
          "data": {
            "text/plain": [
              "            ID  DEVICETYPE  PLATFORM_ID  USERCITY  USERAGENT  PLATFORMTYPE  \\\n",
              "ID                                                                           \n",
              "1001      1001           0            2      3276       3100             3   \n",
              "1002      1002           0            2       132       2913             3   \n",
              "1003      1003           0            2      2783       2913             3   \n",
              "1004      1004           0            3      4124       3191             3   \n",
              "1005      1005           1            7      1821       4371             3   \n",
              "...        ...         ...          ...       ...        ...           ...   \n",
              "114933  114933           0            2      3163       2828             3   \n",
              "114934  114934           0            2      4161       3265             3   \n",
              "114935  114935           0            7      4124       2891             3   \n",
              "114936  114936           1            2      4445       4159             3   \n",
              "114937  114937           1            2      4402       4354             3   \n",
              "\n",
              "        CHANNELTYPE  KEYWORDS  \n",
              "ID                             \n",
              "1001              0       474  \n",
              "1002              0       111  \n",
              "1003              0       474  \n",
              "1004              0       282  \n",
              "1005              0       266  \n",
              "...             ...       ...  \n",
              "114933            0       154  \n",
              "114934            0        69  \n",
              "114935            0       949  \n",
              "114936            0      1740  \n",
              "114937            0       503  \n",
              "\n",
              "[113936 rows x 8 columns]"
            ],
            "text/html": [
              "\n",
              "  <div id=\"df-2d004e48-d895-4b9e-9784-8f322d7fc336\">\n",
              "    <div class=\"colab-df-container\">\n",
              "      <div>\n",
              "<style scoped>\n",
              "    .dataframe tbody tr th:only-of-type {\n",
              "        vertical-align: middle;\n",
              "    }\n",
              "\n",
              "    .dataframe tbody tr th {\n",
              "        vertical-align: top;\n",
              "    }\n",
              "\n",
              "    .dataframe thead th {\n",
              "        text-align: right;\n",
              "    }\n",
              "</style>\n",
              "<table border=\"1\" class=\"dataframe\">\n",
              "  <thead>\n",
              "    <tr style=\"text-align: right;\">\n",
              "      <th></th>\n",
              "      <th>ID</th>\n",
              "      <th>DEVICETYPE</th>\n",
              "      <th>PLATFORM_ID</th>\n",
              "      <th>USERCITY</th>\n",
              "      <th>USERAGENT</th>\n",
              "      <th>PLATFORMTYPE</th>\n",
              "      <th>CHANNELTYPE</th>\n",
              "      <th>KEYWORDS</th>\n",
              "    </tr>\n",
              "    <tr>\n",
              "      <th>ID</th>\n",
              "      <th></th>\n",
              "      <th></th>\n",
              "      <th></th>\n",
              "      <th></th>\n",
              "      <th></th>\n",
              "      <th></th>\n",
              "      <th></th>\n",
              "      <th></th>\n",
              "    </tr>\n",
              "  </thead>\n",
              "  <tbody>\n",
              "    <tr>\n",
              "      <th>1001</th>\n",
              "      <td>1001</td>\n",
              "      <td>0</td>\n",
              "      <td>2</td>\n",
              "      <td>3276</td>\n",
              "      <td>3100</td>\n",
              "      <td>3</td>\n",
              "      <td>0</td>\n",
              "      <td>474</td>\n",
              "    </tr>\n",
              "    <tr>\n",
              "      <th>1002</th>\n",
              "      <td>1002</td>\n",
              "      <td>0</td>\n",
              "      <td>2</td>\n",
              "      <td>132</td>\n",
              "      <td>2913</td>\n",
              "      <td>3</td>\n",
              "      <td>0</td>\n",
              "      <td>111</td>\n",
              "    </tr>\n",
              "    <tr>\n",
              "      <th>1003</th>\n",
              "      <td>1003</td>\n",
              "      <td>0</td>\n",
              "      <td>2</td>\n",
              "      <td>2783</td>\n",
              "      <td>2913</td>\n",
              "      <td>3</td>\n",
              "      <td>0</td>\n",
              "      <td>474</td>\n",
              "    </tr>\n",
              "    <tr>\n",
              "      <th>1004</th>\n",
              "      <td>1004</td>\n",
              "      <td>0</td>\n",
              "      <td>3</td>\n",
              "      <td>4124</td>\n",
              "      <td>3191</td>\n",
              "      <td>3</td>\n",
              "      <td>0</td>\n",
              "      <td>282</td>\n",
              "    </tr>\n",
              "    <tr>\n",
              "      <th>1005</th>\n",
              "      <td>1005</td>\n",
              "      <td>1</td>\n",
              "      <td>7</td>\n",
              "      <td>1821</td>\n",
              "      <td>4371</td>\n",
              "      <td>3</td>\n",
              "      <td>0</td>\n",
              "      <td>266</td>\n",
              "    </tr>\n",
              "    <tr>\n",
              "      <th>...</th>\n",
              "      <td>...</td>\n",
              "      <td>...</td>\n",
              "      <td>...</td>\n",
              "      <td>...</td>\n",
              "      <td>...</td>\n",
              "      <td>...</td>\n",
              "      <td>...</td>\n",
              "      <td>...</td>\n",
              "    </tr>\n",
              "    <tr>\n",
              "      <th>114933</th>\n",
              "      <td>114933</td>\n",
              "      <td>0</td>\n",
              "      <td>2</td>\n",
              "      <td>3163</td>\n",
              "      <td>2828</td>\n",
              "      <td>3</td>\n",
              "      <td>0</td>\n",
              "      <td>154</td>\n",
              "    </tr>\n",
              "    <tr>\n",
              "      <th>114934</th>\n",
              "      <td>114934</td>\n",
              "      <td>0</td>\n",
              "      <td>2</td>\n",
              "      <td>4161</td>\n",
              "      <td>3265</td>\n",
              "      <td>3</td>\n",
              "      <td>0</td>\n",
              "      <td>69</td>\n",
              "    </tr>\n",
              "    <tr>\n",
              "      <th>114935</th>\n",
              "      <td>114935</td>\n",
              "      <td>0</td>\n",
              "      <td>7</td>\n",
              "      <td>4124</td>\n",
              "      <td>2891</td>\n",
              "      <td>3</td>\n",
              "      <td>0</td>\n",
              "      <td>949</td>\n",
              "    </tr>\n",
              "    <tr>\n",
              "      <th>114936</th>\n",
              "      <td>114936</td>\n",
              "      <td>1</td>\n",
              "      <td>2</td>\n",
              "      <td>4445</td>\n",
              "      <td>4159</td>\n",
              "      <td>3</td>\n",
              "      <td>0</td>\n",
              "      <td>1740</td>\n",
              "    </tr>\n",
              "    <tr>\n",
              "      <th>114937</th>\n",
              "      <td>114937</td>\n",
              "      <td>1</td>\n",
              "      <td>2</td>\n",
              "      <td>4402</td>\n",
              "      <td>4354</td>\n",
              "      <td>3</td>\n",
              "      <td>0</td>\n",
              "      <td>503</td>\n",
              "    </tr>\n",
              "  </tbody>\n",
              "</table>\n",
              "<p>113936 rows × 8 columns</p>\n",
              "</div>\n",
              "      <button class=\"colab-df-convert\" onclick=\"convertToInteractive('df-2d004e48-d895-4b9e-9784-8f322d7fc336')\"\n",
              "              title=\"Convert this dataframe to an interactive table.\"\n",
              "              style=\"display:none;\">\n",
              "        \n",
              "  <svg xmlns=\"http://www.w3.org/2000/svg\" height=\"24px\"viewBox=\"0 0 24 24\"\n",
              "       width=\"24px\">\n",
              "    <path d=\"M0 0h24v24H0V0z\" fill=\"none\"/>\n",
              "    <path d=\"M18.56 5.44l.94 2.06.94-2.06 2.06-.94-2.06-.94-.94-2.06-.94 2.06-2.06.94zm-11 1L8.5 8.5l.94-2.06 2.06-.94-2.06-.94L8.5 2.5l-.94 2.06-2.06.94zm10 10l.94 2.06.94-2.06 2.06-.94-2.06-.94-.94-2.06-.94 2.06-2.06.94z\"/><path d=\"M17.41 7.96l-1.37-1.37c-.4-.4-.92-.59-1.43-.59-.52 0-1.04.2-1.43.59L10.3 9.45l-7.72 7.72c-.78.78-.78 2.05 0 2.83L4 21.41c.39.39.9.59 1.41.59.51 0 1.02-.2 1.41-.59l7.78-7.78 2.81-2.81c.8-.78.8-2.07 0-2.86zM5.41 20L4 18.59l7.72-7.72 1.47 1.35L5.41 20z\"/>\n",
              "  </svg>\n",
              "      </button>\n",
              "      \n",
              "  <style>\n",
              "    .colab-df-container {\n",
              "      display:flex;\n",
              "      flex-wrap:wrap;\n",
              "      gap: 12px;\n",
              "    }\n",
              "\n",
              "    .colab-df-convert {\n",
              "      background-color: #E8F0FE;\n",
              "      border: none;\n",
              "      border-radius: 50%;\n",
              "      cursor: pointer;\n",
              "      display: none;\n",
              "      fill: #1967D2;\n",
              "      height: 32px;\n",
              "      padding: 0 0 0 0;\n",
              "      width: 32px;\n",
              "    }\n",
              "\n",
              "    .colab-df-convert:hover {\n",
              "      background-color: #E2EBFA;\n",
              "      box-shadow: 0px 1px 2px rgba(60, 64, 67, 0.3), 0px 1px 3px 1px rgba(60, 64, 67, 0.15);\n",
              "      fill: #174EA6;\n",
              "    }\n",
              "\n",
              "    [theme=dark] .colab-df-convert {\n",
              "      background-color: #3B4455;\n",
              "      fill: #D2E3FC;\n",
              "    }\n",
              "\n",
              "    [theme=dark] .colab-df-convert:hover {\n",
              "      background-color: #434B5C;\n",
              "      box-shadow: 0px 1px 3px 1px rgba(0, 0, 0, 0.15);\n",
              "      filter: drop-shadow(0px 1px 2px rgba(0, 0, 0, 0.3));\n",
              "      fill: #FFFFFF;\n",
              "    }\n",
              "  </style>\n",
              "\n",
              "      <script>\n",
              "        const buttonEl =\n",
              "          document.querySelector('#df-2d004e48-d895-4b9e-9784-8f322d7fc336 button.colab-df-convert');\n",
              "        buttonEl.style.display =\n",
              "          google.colab.kernel.accessAllowed ? 'block' : 'none';\n",
              "\n",
              "        async function convertToInteractive(key) {\n",
              "          const element = document.querySelector('#df-2d004e48-d895-4b9e-9784-8f322d7fc336');\n",
              "          const dataTable =\n",
              "            await google.colab.kernel.invokeFunction('convertToInteractive',\n",
              "                                                     [key], {});\n",
              "          if (!dataTable) return;\n",
              "\n",
              "          const docLinkHtml = 'Like what you see? Visit the ' +\n",
              "            '<a target=\"_blank\" href=https://colab.research.google.com/notebooks/data_table.ipynb>data table notebook</a>'\n",
              "            + ' to learn more about interactive tables.';\n",
              "          element.innerHTML = '';\n",
              "          dataTable['output_type'] = 'display_data';\n",
              "          await google.colab.output.renderOutput(dataTable, element);\n",
              "          const docLink = document.createElement('div');\n",
              "          docLink.innerHTML = docLinkHtml;\n",
              "          element.appendChild(docLink);\n",
              "        }\n",
              "      </script>\n",
              "    </div>\n",
              "  </div>\n",
              "  "
            ]
          },
          "metadata": {},
          "execution_count": 77
        }
      ]
    },
    {
      "cell_type": "markdown",
      "source": [
        "### Logistic Regression"
      ],
      "metadata": {
        "id": "1rd5Vsh-v4Qk"
      }
    },
    {
      "cell_type": "code",
      "source": [
        "# # Train a logistic regression model\n",
        "# l_model = LogisticRegression()\n",
        "# l_model.fit(X_train, y_train)\n",
        "\n",
        "# # Make predictions on the testing set\n",
        "# y_pred = l_model.predict(X_test)\n",
        "\n",
        "# # Evaluate the model's performance\n",
        "# accuracy = accuracy_score(y_test, y_pred)\n",
        "# print(\"Accuracy:\", accuracy)\n",
        "\n",
        "# print(\"\\nConfusion Matrix: \")\n",
        "# confusion_matrix(y_test, y_pred)"
      ],
      "metadata": {
        "id": "S5-xHSQifCT4"
      },
      "execution_count": null,
      "outputs": []
    },
    {
      "cell_type": "code",
      "source": [
        "# k = l_model.predict(X_TEST)\n",
        "\n",
        "# k = pd.DataFrame({'ID':df_test.ID,'IS_HCP':k})\n",
        "# k.to_csv(\"output-Logistic.csv\",index=False)\n",
        "# k.columns"
      ],
      "metadata": {
        "id": "ewF_jGpw1dUw"
      },
      "execution_count": null,
      "outputs": []
    },
    {
      "cell_type": "markdown",
      "source": [
        "### Decision Tree"
      ],
      "metadata": {
        "id": "nEneFxy5v1bm"
      }
    },
    {
      "cell_type": "code",
      "source": [
        "# # Training the Decision Tree Classification model on the Training set\n",
        "# from sklearn.tree import DecisionTreeClassifier\n",
        "\n",
        "# d_classifier = DecisionTreeClassifier(criterion = 'entropy', random_state = 0, max_depth=15)\n",
        "# d_classifier.fit(X_train, y_train)\n",
        "\n",
        "# # Predicting the Test set results\n",
        "# y_pred = d_classifier.predict(X_test)\n",
        "\n",
        "# # Evaluate the model's performance\n",
        "# accuracy = accuracy_score(y_test, y_pred)\n",
        "# print(\"Accuracy:\", accuracy)\n",
        "\n",
        "# print(\"\\nConfusion Matrix: \")\n",
        "# confusion_matrix(y_test, y_pred)"
      ],
      "metadata": {
        "id": "OYUiP7awueHW"
      },
      "execution_count": null,
      "outputs": []
    },
    {
      "cell_type": "code",
      "source": [
        "# k = d_classifier.predict(X_TEST)\n",
        "\n",
        "# k = pd.DataFrame({'ID':df_test.ID,'IS_HCP':k})\n",
        "# k.to_csv(\"output-DClass.csv\",index=False)\n",
        "# k.columns"
      ],
      "metadata": {
        "id": "HJC1XiqG1Ur_"
      },
      "execution_count": null,
      "outputs": []
    },
    {
      "cell_type": "markdown",
      "source": [
        "### XGBoost"
      ],
      "metadata": {
        "id": "NhKipEXOvz4Q"
      }
    },
    {
      "cell_type": "code",
      "source": [
        "from xgboost import XGBClassifier\n",
        "\n",
        "bst = XGBClassifier(n_estimators=500, n_jobs=80, objective='binary:logistic')\n",
        "# fit model\n",
        "bst.fit(X_train, y_train)\n",
        "# make predictions\n",
        "y_pred = bst.predict(X_test)\n",
        "\n",
        "# Evaluate the model's performance\n",
        "accuracy = accuracy_score(y_test, y_pred)\n",
        "print(\"Accuracy:\", accuracy)\n",
        "\n",
        "print(\"\\nConfusion Matrix: \")\n",
        "confusion_matrix(y_test, y_pred)"
      ],
      "metadata": {
        "id": "stMkPjKFfCZJ",
        "colab": {
          "base_uri": "https://localhost:8080/"
        },
        "outputId": "43737ad6-9a30-4578-c118-17fabe276c6b"
      },
      "execution_count": null,
      "outputs": [
        {
          "output_type": "stream",
          "name": "stdout",
          "text": [
            "Accuracy: 0.9957433737054591\n",
            "\n",
            "Confusion Matrix: \n"
          ]
        },
        {
          "output_type": "execute_result",
          "data": {
            "text/plain": [
              "array([[15887,    26],\n",
              "       [   71,  6804]])"
            ]
          },
          "metadata": {},
          "execution_count": 82
        }
      ]
    },
    {
      "cell_type": "code",
      "source": [
        "k = bst.predict(X_TEST)\n",
        "\n",
        "k = pd.DataFrame({'ID':df_test.ID,'IS_HCP':k})\n",
        "k.to_csv(\"output-XGBoost.csv\",index=False)\n",
        "k.columns"
      ],
      "metadata": {
        "colab": {
          "base_uri": "https://localhost:8080/"
        },
        "id": "iNUk6CN91Qjg",
        "outputId": "8a7d8b24-391e-4067-974a-9131801d7cea"
      },
      "execution_count": null,
      "outputs": [
        {
          "output_type": "execute_result",
          "data": {
            "text/plain": [
              "Index(['ID', 'IS_HCP'], dtype='object')"
            ]
          },
          "metadata": {},
          "execution_count": 83
        }
      ]
    },
    {
      "cell_type": "code",
      "source": [
        "# from sklearn.model_selection import GridSearchCV\n",
        "# from sklearn.model_selection import StratifiedKFold\n",
        "# import matplotlib.pyplot as plt\n",
        "# from sklearn.model_selection import RandomizedSearchCV\n",
        "\n",
        "# model = XGBClassifier()\n",
        "# n_estimators = range(100, 800, 100)\n",
        "# param_grid = dict(n_estimators=n_estimators)\n",
        "# kfold = StratifiedKFold(n_splits=10, shuffle=True, random_state=7)\n",
        "# random_search = RandomizedSearchCV(model, param_grid, scoring=\"neg_log_loss\", n_jobs=80, cv=kfold)\n",
        "# random_result = random_search.fit(X_train, y_train)\n",
        "\n",
        "# # summarize results\n",
        "# print(\"Best: %f using %s\" % (random_result.best_score_, random_result.best_params_))\n",
        "# means = random_result.cv_results_['mean_test_score']\n",
        "# stds = random_result.cv_results_['std_test_score']\n",
        "# params = random_result.cv_results_['params']\n",
        "# for mean, stdev, param in zip(means, stds, params):\n",
        "#  print(\"%f (%f) with: %r\" % (mean, stdev, param))\n",
        "\n",
        "# # plot\n",
        "# plt.errorbar(n_estimators, means, yerr=stds)\n",
        "# plt.title(\"XGBoost n_estimators vs Log Loss\")\n",
        "# plt.xlabel('n_estimators')\n",
        "# plt.ylabel('Log Loss')"
      ],
      "metadata": {
        "id": "KqR7tHs05WRe"
      },
      "execution_count": null,
      "outputs": []
    },
    {
      "cell_type": "code",
      "source": [
        "# from xgboost import XGBClassifier\n",
        "\n",
        "# n_esti = 1000\n",
        "\n",
        "# bst = XGBClassifier(n_estimators=n_esti, n_jobs=80)\n",
        "# # fit model\n",
        "# bst.fit(X_train, y_train)\n",
        "# # make predictions\n",
        "# y_pred = bst.predict(X_test)\n",
        "\n",
        "# # Evaluate the model's performance\n",
        "# accuracy = accuracy_score(y_test, y_pred)\n",
        "# print(\"Accuracy:\", accuracy)\n",
        "\n",
        "# print(\"\\nConfusion Matrix: \")\n",
        "# confusion_matrix(y_test, y_pred)\n",
        "\n",
        "# k = bst.predict(X_TEST)\n",
        "\n",
        "# k = pd.DataFrame({'ID':df_test.ID,'IS_HCP':k})\n",
        "# k.to_csv(f\"output-XGBoost-{n_esti}.csv\",index=False)\n",
        "# k.columns"
      ],
      "metadata": {
        "id": "DvW_8b7kPRDx"
      },
      "execution_count": null,
      "outputs": []
    },
    {
      "cell_type": "markdown",
      "source": [
        "### Random Forest Classifier"
      ],
      "metadata": {
        "id": "l_CBgSE_0aKB"
      }
    },
    {
      "cell_type": "code",
      "source": [
        "from sklearn.ensemble import RandomForestClassifier\n",
        "\n",
        "model = RandomForestClassifier(criterion=\"entropy\", n_estimators=500, n_jobs=80)\n",
        "\n",
        "model.fit(x, y)"
      ],
      "metadata": {
        "colab": {
          "base_uri": "https://localhost:8080/",
          "height": 74
        },
        "id": "g-VSALRLzjcT",
        "outputId": "7f3117ef-0803-45e4-a25c-d599fb95eccf"
      },
      "execution_count": null,
      "outputs": [
        {
          "output_type": "execute_result",
          "data": {
            "text/plain": [
              "RandomForestClassifier(criterion='entropy', n_estimators=500, n_jobs=80)"
            ],
            "text/html": [
              "<style>#sk-container-id-3 {color: black;background-color: white;}#sk-container-id-3 pre{padding: 0;}#sk-container-id-3 div.sk-toggleable {background-color: white;}#sk-container-id-3 label.sk-toggleable__label {cursor: pointer;display: block;width: 100%;margin-bottom: 0;padding: 0.3em;box-sizing: border-box;text-align: center;}#sk-container-id-3 label.sk-toggleable__label-arrow:before {content: \"▸\";float: left;margin-right: 0.25em;color: #696969;}#sk-container-id-3 label.sk-toggleable__label-arrow:hover:before {color: black;}#sk-container-id-3 div.sk-estimator:hover label.sk-toggleable__label-arrow:before {color: black;}#sk-container-id-3 div.sk-toggleable__content {max-height: 0;max-width: 0;overflow: hidden;text-align: left;background-color: #f0f8ff;}#sk-container-id-3 div.sk-toggleable__content pre {margin: 0.2em;color: black;border-radius: 0.25em;background-color: #f0f8ff;}#sk-container-id-3 input.sk-toggleable__control:checked~div.sk-toggleable__content {max-height: 200px;max-width: 100%;overflow: auto;}#sk-container-id-3 input.sk-toggleable__control:checked~label.sk-toggleable__label-arrow:before {content: \"▾\";}#sk-container-id-3 div.sk-estimator input.sk-toggleable__control:checked~label.sk-toggleable__label {background-color: #d4ebff;}#sk-container-id-3 div.sk-label input.sk-toggleable__control:checked~label.sk-toggleable__label {background-color: #d4ebff;}#sk-container-id-3 input.sk-hidden--visually {border: 0;clip: rect(1px 1px 1px 1px);clip: rect(1px, 1px, 1px, 1px);height: 1px;margin: -1px;overflow: hidden;padding: 0;position: absolute;width: 1px;}#sk-container-id-3 div.sk-estimator {font-family: monospace;background-color: #f0f8ff;border: 1px dotted black;border-radius: 0.25em;box-sizing: border-box;margin-bottom: 0.5em;}#sk-container-id-3 div.sk-estimator:hover {background-color: #d4ebff;}#sk-container-id-3 div.sk-parallel-item::after {content: \"\";width: 100%;border-bottom: 1px solid gray;flex-grow: 1;}#sk-container-id-3 div.sk-label:hover label.sk-toggleable__label {background-color: #d4ebff;}#sk-container-id-3 div.sk-serial::before {content: \"\";position: absolute;border-left: 1px solid gray;box-sizing: border-box;top: 0;bottom: 0;left: 50%;z-index: 0;}#sk-container-id-3 div.sk-serial {display: flex;flex-direction: column;align-items: center;background-color: white;padding-right: 0.2em;padding-left: 0.2em;position: relative;}#sk-container-id-3 div.sk-item {position: relative;z-index: 1;}#sk-container-id-3 div.sk-parallel {display: flex;align-items: stretch;justify-content: center;background-color: white;position: relative;}#sk-container-id-3 div.sk-item::before, #sk-container-id-3 div.sk-parallel-item::before {content: \"\";position: absolute;border-left: 1px solid gray;box-sizing: border-box;top: 0;bottom: 0;left: 50%;z-index: -1;}#sk-container-id-3 div.sk-parallel-item {display: flex;flex-direction: column;z-index: 1;position: relative;background-color: white;}#sk-container-id-3 div.sk-parallel-item:first-child::after {align-self: flex-end;width: 50%;}#sk-container-id-3 div.sk-parallel-item:last-child::after {align-self: flex-start;width: 50%;}#sk-container-id-3 div.sk-parallel-item:only-child::after {width: 0;}#sk-container-id-3 div.sk-dashed-wrapped {border: 1px dashed gray;margin: 0 0.4em 0.5em 0.4em;box-sizing: border-box;padding-bottom: 0.4em;background-color: white;}#sk-container-id-3 div.sk-label label {font-family: monospace;font-weight: bold;display: inline-block;line-height: 1.2em;}#sk-container-id-3 div.sk-label-container {text-align: center;}#sk-container-id-3 div.sk-container {/* jupyter's `normalize.less` sets `[hidden] { display: none; }` but bootstrap.min.css set `[hidden] { display: none !important; }` so we also need the `!important` here to be able to override the default hidden behavior on the sphinx rendered scikit-learn.org. See: https://github.com/scikit-learn/scikit-learn/issues/21755 */display: inline-block !important;position: relative;}#sk-container-id-3 div.sk-text-repr-fallback {display: none;}</style><div id=\"sk-container-id-3\" class=\"sk-top-container\"><div class=\"sk-text-repr-fallback\"><pre>RandomForestClassifier(criterion=&#x27;entropy&#x27;, n_estimators=500, n_jobs=80)</pre><b>In a Jupyter environment, please rerun this cell to show the HTML representation or trust the notebook. <br />On GitHub, the HTML representation is unable to render, please try loading this page with nbviewer.org.</b></div><div class=\"sk-container\" hidden><div class=\"sk-item\"><div class=\"sk-estimator sk-toggleable\"><input class=\"sk-toggleable__control sk-hidden--visually\" id=\"sk-estimator-id-3\" type=\"checkbox\" checked><label for=\"sk-estimator-id-3\" class=\"sk-toggleable__label sk-toggleable__label-arrow\">RandomForestClassifier</label><div class=\"sk-toggleable__content\"><pre>RandomForestClassifier(criterion=&#x27;entropy&#x27;, n_estimators=500, n_jobs=80)</pre></div></div></div></div></div>"
            ]
          },
          "metadata": {},
          "execution_count": 86
        }
      ]
    },
    {
      "cell_type": "code",
      "source": [
        "from sklearn.metrics import accuracy_score\n",
        "\n",
        "accuracy_score(y_test, model.predict(X_test))"
      ],
      "metadata": {
        "colab": {
          "base_uri": "https://localhost:8080/"
        },
        "id": "AL03KnMhzjiu",
        "outputId": "9110026a-8b8b-46c4-815a-cb7f8f3a2a61"
      },
      "execution_count": null,
      "outputs": [
        {
          "output_type": "execute_result",
          "data": {
            "text/plain": [
              "1.0"
            ]
          },
          "metadata": {},
          "execution_count": 87
        }
      ]
    },
    {
      "cell_type": "code",
      "source": [
        "k = model.predict(X_TEST)"
      ],
      "metadata": {
        "id": "Ng-buIWGzjmL"
      },
      "execution_count": null,
      "outputs": []
    },
    {
      "cell_type": "code",
      "source": [
        "k = pd.DataFrame({'ID':df_test.ID,'IS_HCP':k})\n",
        "k.to_csv(\"output-randomForest.csv\",index=False)\n",
        "k.columns"
      ],
      "metadata": {
        "colab": {
          "base_uri": "https://localhost:8080/"
        },
        "id": "F2WHozBrz1s6",
        "outputId": "1779d29a-3443-435c-f654-3f2b231f279e"
      },
      "execution_count": null,
      "outputs": [
        {
          "output_type": "execute_result",
          "data": {
            "text/plain": [
              "Index(['ID', 'IS_HCP'], dtype='object')"
            ]
          },
          "metadata": {},
          "execution_count": 89
        }
      ]
    },
    {
      "cell_type": "code",
      "source": [
        "# # Save the predictions to a file\n",
        "# predictions_df = pd.DataFrame({'ID': df_test['ID'], 'IS_HCP':k})\n",
        "# predictions_df.to_csv('submissions.csv', index=False)"
      ],
      "metadata": {
        "id": "b_EnAFiF49gA"
      },
      "execution_count": null,
      "outputs": []
    }
  ]
}